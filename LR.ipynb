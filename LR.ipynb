{
  "nbformat": 4,
  "nbformat_minor": 0,
  "metadata": {
    "colab": {
      "provenance": []
    },
    "kernelspec": {
      "name": "python3",
      "display_name": "Python 3"
    },
    "language_info": {
      "name": "python"
    }
  },
  "cells": [
    {
      "cell_type": "markdown",
      "source": [
        "# **1. Packages**"
      ],
      "metadata": {
        "id": "PZKReKgESRP5"
      }
    },
    {
      "cell_type": "code",
      "source": [
        "import numpy as np\n",
        "import pandas as pd\n",
        "from sklearn.model_selection import train_test_split\n",
        "from sklearn.metrics import confusion_matrix"
      ],
      "metadata": {
        "id": "-zzTkeW_SZLW"
      },
      "execution_count": 12,
      "outputs": []
    },
    {
      "cell_type": "markdown",
      "source": [
        "# **2. Functions**"
      ],
      "metadata": {
        "id": "z33bLGP4Spbf"
      }
    },
    {
      "cell_type": "code",
      "source": [
        "def sigmoid(z):\n",
        "\n",
        "    g = 1 / (1 + np.exp(-z))\n",
        "\n",
        "    return g"
      ],
      "metadata": {
        "id": "1S6y0rXkT5b9"
      },
      "execution_count": 13,
      "outputs": []
    },
    {
      "cell_type": "code",
      "source": [
        "def computeLRCost(x, y, theta):\n",
        "\n",
        "    m = len(y)\n",
        "\n",
        "    z = np.dot(x, theta)\n",
        "\n",
        "    cost = -1 / m * np.sum(np.dot(np.log(sigmoid(z)), y) + np.dot(np.log(1 - sigmoid(z)), (1 - y)))\n",
        "\n",
        "    grad = 1 / m * np.dot(x.T, sigmoid(z) - y)\n",
        "\n",
        "    return cost, grad"
      ],
      "metadata": {
        "id": "32xQNeFlT54n"
      },
      "execution_count": 14,
      "outputs": []
    },
    {
      "cell_type": "code",
      "source": [
        "def TrainLRModel(X, y):\n",
        "\n",
        "    alpha = 0.03\n",
        "\n",
        "    theta = np.array([0.0, 0.0, 0.0, 0.0])\n",
        "\n",
        "    temp = np.array([0.0, 0.0, 0.0, 0.0])\n",
        "\n",
        "    m = len(y)\n",
        "\n",
        "    for iteration in range(6000):\n",
        "\n",
        "        cost, grad = computeLRCost(X, y, theta)\n",
        "\n",
        "        temp = theta - alpha * ((1 / m) * grad)\n",
        "\n",
        "        theta = temp\n",
        "\n",
        "    return theta"
      ],
      "metadata": {
        "id": "IiC_53O1T7vE"
      },
      "execution_count": 15,
      "outputs": []
    },
    {
      "cell_type": "code",
      "source": [
        "def predictClass(x, theta, threshold):\n",
        "\n",
        "    z = np.dot(x, theta)\n",
        "\n",
        "    y = np.zeros(z.shape)\n",
        "\n",
        "    count = 0\n",
        "\n",
        "    for i in z:\n",
        "\n",
        "        if sigmoid(i) >= threshold:\n",
        "            y[count] = 1\n",
        "\n",
        "        if sigmoid(i) < threshold:\n",
        "            y[count] = 0\n",
        "\n",
        "        count += 1\n",
        "\n",
        "    return y"
      ],
      "metadata": {
        "id": "qhth5J6nT-GG"
      },
      "execution_count": 16,
      "outputs": []
    },
    {
      "cell_type": "code",
      "source": [
        "def testPerformance(y, y_predicted):\n",
        "\n",
        "    matrix = confusion_matrix(y, y_predicted)\n",
        "\n",
        "    acc = (matrix[0][0] + matrix[1][1]) / matrix.sum()\n",
        "\n",
        "    recall = matrix[1][1] / (matrix[1][1] + matrix[1][0])\n",
        "\n",
        "    precision = matrix[1][1] / (matrix[1][1] + matrix[0][1])\n",
        "\n",
        "    fScore = (2 * (precision * recall)) / (precision + recall)\n",
        "\n",
        "    return acc, recall, precision, fScore"
      ],
      "metadata": {
        "id": "K-WGqnoLUB5L"
      },
      "execution_count": 17,
      "outputs": []
    },
    {
      "cell_type": "markdown",
      "source": [
        "# **3. Dataset loading and cleaning**"
      ],
      "metadata": {
        "id": "oSVIefLZS25C"
      }
    },
    {
      "cell_type": "code",
      "source": [
        "# loading dataset\n",
        "train_data = pd.read_csv(\"dataset.csv\")\n",
        "\n",
        "y = train_data.iloc[:, -1].values\n",
        "\n",
        "X1 = train_data.iloc[:, :-1].values\n",
        "\n",
        "# remove first column\n",
        "X = X1[:, 1:]\n",
        "\n",
        "# considering theta0\n",
        "ones = [1 for i in range(len(y))]\n",
        "X = np.column_stack((ones, X))\n",
        "\n",
        "# Split dataset\n",
        "x_train, x_test, y_train, y_test = train_test_split(X, y, test_size=0.25)"
      ],
      "metadata": {
        "id": "lVCmvfPuUEpo"
      },
      "execution_count": 18,
      "outputs": []
    },
    {
      "cell_type": "markdown",
      "source": [
        "# **4. Test**"
      ],
      "metadata": {
        "id": "UzNdB0FDTNOA"
      }
    },
    {
      "cell_type": "code",
      "source": [
        "theta = TrainLRModel(x_train, y_train)\n",
        "\n",
        "y_predict = predictClass(x_test, theta, 0.3)\n",
        "\n",
        "acc, recall, precision, fScore = testPerformance(y_test, y_predict)\n",
        "\n",
        "print(\"Accuracy: \", \"{:.2f}\".format(acc), \"\\n\")\n",
        "print(\"Recall: \", \"{:.2f}\".format(recall), \"\\n\")\n",
        "print(\"Precision: \", \"{:.2f}\".format(precision), \"\\n\")\n",
        "print(\"fScore: \", \"{:.2f}\".format(fScore), \"\\n\")"
      ],
      "metadata": {
        "colab": {
          "base_uri": "https://localhost:8080/"
        },
        "id": "3dXZ89CYTHV6",
        "outputId": "abb834d5-c4f1-4859-eab9-0e6f0ab7d9e6"
      },
      "execution_count": 20,
      "outputs": [
        {
          "output_type": "stream",
          "name": "stdout",
          "text": [
            "Accuracy:  0.70 \n",
            "\n",
            "Recall:  0.43 \n",
            "\n",
            "Precision:  0.50 \n",
            "\n",
            "fScore:  0.47 \n",
            "\n"
          ]
        }
      ]
    }
  ]
}